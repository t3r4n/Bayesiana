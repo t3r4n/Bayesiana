{
  "nbformat": 4,
  "nbformat_minor": 0,
  "metadata": {
    "colab": {
      "private_outputs": true,
      "provenance": [],
      "include_colab_link": true
    },
    "kernelspec": {
      "name": "python3",
      "display_name": "Python 3"
    },
    "language_info": {
      "name": "python"
    }
  },
  "cells": [
    {
      "cell_type": "markdown",
      "metadata": {
        "id": "view-in-github",
        "colab_type": "text"
      },
      "source": [
        "<a href=\"https://colab.research.google.com/github/t3r4n/Bayesiana/blob/main/Bayesiana_modelo.ipynb\" target=\"_parent\"><img src=\"https://colab.research.google.com/assets/colab-badge.svg\" alt=\"Open In Colab\"/></a>"
      ]
    },
    {
      "cell_type": "code",
      "execution_count": null,
      "metadata": {
        "id": "DORkqGaSZSZG"
      },
      "outputs": [],
      "source": [
        "import numpy as np\n",
        "import pandas as pd\n",
        "import arviz as az\n",
        "import matplotlib.pyplot as plt\n",
        "import seaborn as sns"
      ]
    },
    {
      "cell_type": "code",
      "source": [
        "import pymc as pm"
      ],
      "metadata": {
        "id": "Xl_qIsxG3KmN"
      },
      "execution_count": null,
      "outputs": []
    },
    {
      "cell_type": "code",
      "source": [
        "df = pd.read_excel('/content/BASE_BASE (1).xlsx')"
      ],
      "metadata": {
        "id": "nyUfHCY9Zhe_"
      },
      "execution_count": null,
      "outputs": []
    },
    {
      "cell_type": "markdown",
      "source": [
        "#**FILTRADO DE VARIABLES DE VALOR**"
      ],
      "metadata": {
        "id": "hckouWIQbBnB"
      }
    },
    {
      "cell_type": "code",
      "source": [
        "selected_columns = ['SEXO', 'EDAD', 'PAIS_RESIDENCIA', 'PROPOSITO',\n",
        "       'IMPORTANCIA_OFERTA_ALOJATIVA', 'MEDIDA_LIMPIEZA',\n",
        "       'MEDIDA_FACILIDAD_TP', 'NOCHES', 'PERSONAS_TOTAL', 'COSTE_ALOJ_EUROS',\n",
        "       'HORAS_DIA', 'IMPORTANCIA_SEGURIDAD', 'IMPORTANCIA_PRECIO',\n",
        "       'ANTELACION_VIAJE', 'CANAL_VISITAS_ANTERIORES',\n",
        "       'CANAL_AMIGOS_FAMILIARES', 'CANAL_INTERNET_REDES_SOCIALES',\n",
        "       'CANAL_TOUROPERADOR_AGENCIA_VIAJE', 'COMPANNIA_SOLO', 'ALOJ_CATEG',\n",
        "       'INGRESOS', 'COMPRA_ALOJ_TTOO_AGENCIA_VIAJES']\n",
        "filtered_df = df[selected_columns]\n",
        "filtered_df"
      ],
      "metadata": {
        "id": "oABsgs30Zvay"
      },
      "execution_count": null,
      "outputs": []
    },
    {
      "cell_type": "code",
      "source": [
        "filtered_df['PAIS_RESIDENCIA'] = filtered_df['PAIS_RESIDENCIA'].astype('category').cat.codes\n",
        "filtered_df['ALOJ_CATEG'] = filtered_df['ALOJ_CATEG'].astype(int)\n",
        "filtered_df['PAIS_RESIDENCIA']"
      ],
      "metadata": {
        "id": "ffbiRd0eZzcz"
      },
      "execution_count": null,
      "outputs": []
    },
    {
      "cell_type": "markdown",
      "source": [
        "#**TRATAMIENTO DE LOS DATOS**"
      ],
      "metadata": {
        "id": "qZib2ZC_ctT3"
      }
    },
    {
      "cell_type": "code",
      "source": [
        "X = filtered_df[['NOCHES', 'COSTE_ALOJ_EUROS', 'MEDIDA_LIMPIEZA', 'PROPOSITO',\n",
        "                 'INGRESOS', 'SEXO', 'EDAD', 'PERSONAS_TOTAL',\n",
        "                 'CANAL_INTERNET_REDES_SOCIALES', 'CANAL_TOUROPERADOR_AGENCIA_VIAJE',\n",
        "                 'CANAL_AMIGOS_FAMILIARES', 'CANAL_VISITAS_ANTERIORES',\n",
        "                 'IMPORTANCIA_SEGURIDAD', 'IMPORTANCIA_PRECIO', 'IMPORTANCIA_OFERTA_ALOJATIVA']].values\n",
        "\n",
        "y = filtered_df['ALOJ_CATEG'].values\n",
        "pais_idx = filtered_df['PAIS_RESIDENCIA'].values\n",
        "\n",
        "# Estandarizar las variables predictoras\n",
        "X_scaled = (X - X.mean(axis=0)) / X.std(axis=0)\n",
        "\n",
        "\n",
        "# Revisar dimensiones\n",
        "print(f\"Dimensiones de las variables predictoras (X_scaled): {X_scaled.shape}\")\n",
        "print(f\"Dimensiones de la variable objetivo (y): {y.shape}\")\n",
        "print(f\"Índices por país (pais_idx): {pais_idx.shape}\")"
      ],
      "metadata": {
        "id": "lNRcev0RZ4un"
      },
      "execution_count": null,
      "outputs": []
    },
    {
      "cell_type": "code",
      "source": [
        "coords = {\n",
        "    \"PAIS\": np.sort(filtered_df['PAIS_RESIDENCIA'].unique()),  # Países como coordenadas\n",
        "    \"Observaciones\": np.arange(filtered_df.shape[0])  # Índices para observaciones\n",
        "}"
      ],
      "metadata": {
        "id": "cy0iRspMaDT1"
      },
      "execution_count": null,
      "outputs": []
    },
    {
      "cell_type": "code",
      "source": [
        "# Verificar los datos\n",
        "# 1. Confirmar que la variable objetivo (y) es binaria\n",
        "assert set(y) <= {0, 1}, \"La variable objetivo (ALOJ_CATEG) debe ser binaria (0 o 1).\"\n",
        "\n",
        "# 2. Verificar los índices por país\n",
        "assert pais_idx.min() >= 0 and pais_idx.max() < len(coords[\"PAIS\"]), \"Los índices de países (pais_idx) están fuera de rango.\"\n",
        "\n",
        "# 3. Estandarizar las variables predictoras\n",
        "X_scaled = (X - X.mean(axis=0)) / X.std(axis=0)"
      ],
      "metadata": {
        "id": "dpCgbBB2aPYz"
      },
      "execution_count": null,
      "outputs": []
    },
    {
      "cell_type": "code",
      "source": [
        "# Manejar valores extremos con log para COSTE_ALOJ_EUROS\n",
        "X[:, 1] = np.log1p(X[:, 1])  # Aplicar transformación logarítmica\n",
        "\n",
        "# Convertir X a DataFrame para manejar nulos\n",
        "X_df = pd.DataFrame(X)\n",
        "\n",
        "# Calcular la media de cada columna y rellenar los valores nulos\n",
        "X_filled = X_df.fillna({col: X_df[col].mean() for col in X_df.columns}).values\n",
        "\n",
        "# Escalar las variables predictoras\n",
        "X_scaled = (X_filled - X_filled.mean(axis=0)) / X_filled.std(axis=0)"
      ],
      "metadata": {
        "id": "je1Qr2uFaVxq"
      },
      "execution_count": null,
      "outputs": []
    },
    {
      "cell_type": "markdown",
      "source": [
        "#**CREACIÓN DEL MODELO JERÁRQUICO**"
      ],
      "metadata": {
        "id": "xi15lklKc60C"
      }
    },
    {
      "cell_type": "code",
      "source": [
        "# Crear modelo jerárquico\n",
        "with pm.Model(coords=coords) as aloj_model:\n",
        "\n",
        "    # Priors globales\n",
        "    intercept_global = pm.Normal(\"Intercept_Global\", mu=0, sigma=10)  # Priors más amplios\n",
        "    sigma_global = pm.HalfNormal(\"Sigma_Global\", sigma=5)\n",
        "\n",
        "    # Priors específicos para países\n",
        "    intercept_pais = pm.Normal(\"Intercept_Pais\", mu=intercept_global, sigma=sigma_global, dims=\"PAIS\")\n",
        "\n",
        "    # Coeficientes globales para las variables predictoras\n",
        "    betas = pm.Normal(\"Betas\", mu=0, sigma=10, shape=X_scaled.shape[1])\n",
        "\n",
        "    # Construcción de la media\n",
        "    mu = intercept_pais[pais_idx] + pm.math.dot(X_scaled, betas)\n",
        "\n",
        "    # Likelihood (logit link)\n",
        "    p = pm.math.sigmoid(mu)\n",
        "    y_obs = pm.Bernoulli(\"ALOJ_CATEG\", p=p, observed=y)\n",
        "\n",
        "    # Muestreo MCMC con inicialización robusta\n",
        "    trace = pm.sample(\n",
        "        1000,\n",
        "        return_inferencedata=True,\n",
        "        cores=1,\n",
        "        chains=2,\n",
        "        target_accept=0.95,\n",
        "        init=\"jitter+adapt_diag\"\n",
        "    )"
      ],
      "metadata": {
        "id": "me6DQkcgakr4"
      },
      "execution_count": null,
      "outputs": []
    },
    {
      "cell_type": "markdown",
      "source": [
        "##**priors**"
      ],
      "metadata": {
        "id": "iRkpRLiw0T5c"
      }
    },
    {
      "cell_type": "code",
      "source": [
        "az.plot_posterior(trace, var_names=[\"Intercept_Global\", \"Sigma_Global\", \"Intercept_Pais\"],\n",
        "                  figsize=(22, 23))\n",
        "plt.show()"
      ],
      "metadata": {
        "id": "2collRU3xKOr"
      },
      "execution_count": null,
      "outputs": []
    },
    {
      "cell_type": "markdown",
      "source": [
        "##**Posterior**\n"
      ],
      "metadata": {
        "id": "LYRKNLx60Yrp"
      }
    },
    {
      "cell_type": "code",
      "source": [
        "az.plot_trace(trace)\n",
        "plt.tight_layout()\n",
        "plt.show()"
      ],
      "metadata": {
        "id": "-79SdYJWbF9T"
      },
      "execution_count": null,
      "outputs": []
    },
    {
      "cell_type": "markdown",
      "source": [
        "#**Organización para visaulizar betas**"
      ],
      "metadata": {
        "id": "h3xXTTUDz8Y4"
      }
    },
    {
      "cell_type": "code",
      "source": [
        "# Variables predictoras en orden\n",
        "variables = ['NOCHES', 'COSTE_ALOJ_EUROS', 'MEDIDA_LIMPIEZA', 'PROPOSITO',\n",
        "                 'INGRESOS', 'SEXO', 'EDAD', 'PERSONAS_TOTAL',\n",
        "                 'CANAL_INTERNET_REDES_SOCIALES', 'CANAL_TOUROPERADOR_AGENCIA_VIAJE',\n",
        "                 'CANAL_AMIGOS_FAMILIARES', 'CANAL_VISITAS_ANTERIORES',\n",
        "                 'IMPORTANCIA_SEGURIDAD', 'IMPORTANCIA_PRECIO', 'IMPORTANCIA_OFERTA_ALOJATIVA']\n",
        "\n",
        "# Extraer los valores posteriores de los betas\n",
        "betas_trace = trace.posterior['Betas'].mean(dim=['chain', 'draw']).values\n",
        "\n",
        "# Asignar cada beta a su variable\n",
        "for var, beta in zip(variables, betas_trace):\n",
        "    print(f\"Beta para {var}: {beta}\")"
      ],
      "metadata": {
        "id": "1wHh9uyzeTTb"
      },
      "execution_count": null,
      "outputs": []
    },
    {
      "cell_type": "code",
      "source": [
        "# prompt: Quiero ver los paises en orden\n",
        "\n",
        "# Obtener los códigos de país únicos y sus nombres correspondientes\n",
        "pais_codes = filtered_df['PAIS_RESIDENCIA'].unique()\n",
        "pais_names = df['PAIS_RESIDENCIA'].unique()\n",
        "\n",
        "# Crear un diccionario para mapear los códigos de país a sus nombres\n",
        "pais_mapping = {code: name for code, name in zip(pais_codes, pais_names)}\n",
        "\n",
        "# Ordenar los países por su código (orden alfabético del nombre)\n",
        "sorted_pais_codes = np.sort(pais_codes)\n",
        "\n",
        "# Imprimir los países en orden\n",
        "for code in sorted_pais_codes:\n",
        "  print(f\"Código de país: {code}, Nombre del país: {pais_mapping[code]}\")"
      ],
      "metadata": {
        "id": "rBfKT6J2eix7"
      },
      "execution_count": null,
      "outputs": []
    },
    {
      "cell_type": "markdown",
      "source": [
        "#**Interceptos por país**\n"
      ],
      "metadata": {
        "id": "5SEa9DsP0HjU"
      }
    },
    {
      "cell_type": "code",
      "source": [
        "print(trace)\n",
        "with aloj_model:\n",
        "    posterior_predictive = pm.sample_posterior_predictive(trace, var_names=[\"ALOJ_CATEG\"], random_seed=42)\n"
      ],
      "metadata": {
        "id": "EXqZHTyDnOpf"
      },
      "execution_count": null,
      "outputs": []
    },
    {
      "cell_type": "code",
      "source": [
        "# Obtener los interceptos específicos por país\n",
        "intercept_pais_summary = az.summary(trace, var_names=[\"Intercept_Pais\"], hdi_prob=0.94)\n",
        "\n",
        "# Crear un mapeo entre los códigos y los nombres de los países\n",
        "unique_paises = filtered_df[['PAIS_RESIDENCIA']].drop_duplicates()\n",
        "unique_paises['Codigo'] = unique_paises['PAIS_RESIDENCIA'].astype('category').cat.codes\n",
        "pais_mapping = unique_paises.sort_values('Codigo')\n",
        "\n",
        "# Asignar cada intercepto a su país correspondiente\n",
        "intercept_pais_summary['Pais'] = pais_mapping['PAIS_RESIDENCIA'].values\n",
        "\n",
        "# Mostrar el resumen de los interceptos por país\n",
        "intercept_pais_summary"
      ],
      "metadata": {
        "id": "Jig_v6ErneR_"
      },
      "execution_count": null,
      "outputs": []
    }
  ]
}