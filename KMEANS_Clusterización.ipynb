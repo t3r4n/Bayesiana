{
  "nbformat": 4,
  "nbformat_minor": 0,
  "metadata": {
    "colab": {
      "private_outputs": true,
      "provenance": []
    },
    "kernelspec": {
      "name": "python3",
      "display_name": "Python 3"
    },
    "language_info": {
      "name": "python"
    }
  },
  "cells": [
    {
      "cell_type": "markdown",
      "source": [
        "#KMEANS\n"
      ],
      "metadata": {
        "id": "WIBatIWFFa1Q"
      }
    },
    {
      "cell_type": "code",
      "source": [
        "import pandas as pd\n",
        "\n",
        "df = pd.read_excel('/content/BASE_BASE (1).xlsx')\n",
        "\n",
        "# Mostrar las primeras filas del DataFrame para revisar su estructura\n",
        "df.head()"
      ],
      "metadata": {
        "id": "xQ3KnAd899nC"
      },
      "execution_count": null,
      "outputs": []
    },
    {
      "cell_type": "code",
      "execution_count": null,
      "metadata": {
        "id": "-BNXEJT-9y8n"
      },
      "outputs": [],
      "source": [
        "from sklearn.preprocessing import StandardScaler, OneHotEncoder\n",
        "from sklearn.cluster import KMeans\n",
        "from sklearn.compose import ColumnTransformer\n",
        "from sklearn.pipeline import Pipeline\n",
        "import matplotlib.pyplot as plt\n",
        "import numpy as np\n",
        "\n",
        "# Selección de características relevantes\n",
        "selected_features = [\n",
        "    \"SEXO\", \"EDAD\", \"PAIS_RESIDENCIA\",\n",
        "    \"IMPORTANCIA_OFERTA_ALOJATIVA\", \"MEDIDA_LIMPIEZA\",\n",
        "    \"NOCHES\", \"PERSONAS_TOTAL\", \"COSTE_ALOJ_EUROS\"\n",
        "]\n",
        "\n",
        "# Filtrar datos y eliminar filas con valores faltantes\n",
        "df_cleaned = df[selected_features + [\"ALOJ_CATEG\"]].dropna()\n",
        "\n",
        "# Separar características y target (para análisis posterior)\n",
        "X = df_cleaned[selected_features]\n",
        "y = df_cleaned[\"ALOJ_CATEG\"]\n",
        "\n",
        "# Escalamiento para numéricas, codificación para categóricas\n",
        "numeric_features = X.select_dtypes(include=[\"int64\", \"float64\"]).columns\n",
        "categorical_features = X.select_dtypes(include=[\"object\"]).columns\n",
        "\n",
        "preprocessor = ColumnTransformer(\n",
        "    transformers=[\n",
        "        (\"num\", StandardScaler(), numeric_features),\n",
        "        (\"cat\", OneHotEncoder(drop=\"first\"), categorical_features),\n",
        "    ]\n",
        ")\n",
        "\n",
        "# Definir el pipeline con K-Means\n",
        "pipeline = Pipeline(\n",
        "    steps=[(\"preprocessor\", preprocessor), (\"kmeans\", KMeans(random_state=42))]\n",
        ")\n",
        "\n",
        "# Determinar el número óptimo de clusters usando el método del codo\n",
        "inertia = []\n",
        "K_range = range(2, 11)  # Probar entre 2 y 10 clusters\n",
        "\n",
        "for k in K_range:\n",
        "    pipeline.set_params(kmeans__n_clusters=k)\n",
        "    pipeline.fit(X)\n",
        "    inertia.append(pipeline.named_steps[\"kmeans\"].inertia_)\n",
        "\n",
        "# Graficar el método del codo\n",
        "plt.figure(figsize=(8, 5))\n",
        "plt.plot(K_range, inertia, marker=\"o\")\n",
        "plt.title(\"Método del Codo para determinar K óptimo\")\n",
        "plt.xlabel(\"Número de Clusters (K)\")\n",
        "plt.ylabel(\"Inercia\")\n",
        "plt.xticks(K_range)\n",
        "plt.grid()\n",
        "plt.show()\n"
      ]
    },
    {
      "cell_type": "code",
      "source": [
        "# Aplicar K-Means con K=2 clusters\n",
        "pipeline.set_params(kmeans__n_clusters=2)\n",
        "pipeline.fit(X)\n",
        "\n",
        "# Agregar los clusters al DataFrame original para análisis\n",
        "df_cleaned[\"Cluster\"] = pipeline.named_steps[\"kmeans\"].labels_\n",
        "\n",
        "# Visualizar la distribución de ALOJ_CATEG dentro de cada cluster\n",
        "cluster_analysis = df_cleaned.groupby([\"Cluster\", \"ALOJ_CATEG\"]).size().unstack(fill_value=0)\n",
        "\n",
        "# Mostrar resultados\n",
        "cluster_analysis\n"
      ],
      "metadata": {
        "id": "WX0SJLDV-1JG"
      },
      "execution_count": null,
      "outputs": []
    },
    {
      "cell_type": "code",
      "source": [
        "import seaborn as sns\n",
        "import matplotlib.pyplot as plt\n",
        "\n",
        "# Preparar los datos\n",
        "cluster_analysis.plot(kind=\"bar\", stacked=True, figsize=(10, 6))\n",
        "plt.title(\"Distribución de ALOJ_CATEG por Cluster\")\n",
        "plt.xlabel(\"Cluster\")\n",
        "plt.ylabel(\"Cantidad\")\n",
        "plt.xticks(rotation=0)\n",
        "plt.legend(title=\"ALOJ_CATEG\")\n",
        "plt.show()\n"
      ],
      "metadata": {
        "id": "3JGxavDx_QQY"
      },
      "execution_count": null,
      "outputs": []
    },
    {
      "cell_type": "code",
      "source": [
        "sns.scatterplot(\n",
        "    data=df_cleaned,\n",
        "    x=\"EDAD\",\n",
        "    y=\"COSTE_ALOJ_EUROS\",\n",
        "    hue=\"Cluster\",\n",
        "    palette=\"viridis\"\n",
        ")\n",
        "plt.title(\"Dispersión de EDAD vs COSTE_ALOJ_EUROS por Cluster\")\n",
        "plt.xlabel(\"Edad\")\n",
        "plt.ylabel(\"Costo del Alojamiento (€)\")\n",
        "plt.legend(title=\"Cluster\")\n",
        "plt.show()\n"
      ],
      "metadata": {
        "id": "jT9mPNy1_aln"
      },
      "execution_count": null,
      "outputs": []
    },
    {
      "cell_type": "code",
      "source": [
        "\n",
        "\n",
        "\n",
        "\n",
        "\n",
        "\n",
        "# Excluir variables no numéricas para calcular la matriz de correlación\n",
        "numeric_features = df_cleaned.select_dtypes(include=[\"int64\", \"float64\"])\n",
        "\n",
        "# Calcular matriz de correlación y ordenar las correlaciones con ALOJ_CATEG\n",
        "corr_matrix = numeric_features.corr()\n",
        "correlations_with_target = corr_matrix[\"ALOJ_CATEG\"].sort_values(ascending=False)\n",
        "\n",
        "\n",
        "# Generar gráficos para analizar la distribución de variables clave con respecto a ALOJ_CATEG\n",
        "import seaborn as sns\n",
        "import matplotlib.pyplot as plt\n",
        "\n",
        "variables_to_plot = [\"COSTE_ALOJ_EUROS\", \"NOCHES\", \"EDAD\", \"PERSONAS_TOTAL\", \"IMPORTANCIA_OFERTA_ALOJATIVA\"]\n",
        "\n",
        "for var in variables_to_plot:\n",
        "    plt.figure(figsize=(8, 5))\n",
        "    sns.boxplot(x=\"ALOJ_CATEG\", y=var, data=df_cleaned)\n",
        "    plt.title(f\"Distribución de {var} por ALOJ_CATEG\")\n",
        "    plt.xlabel(\"ALOJ_CATEG (0=Hotel, 1=Vivienda Turística)\")\n",
        "    plt.ylabel(var)\n",
        "    plt.grid()\n",
        "    plt.show()"
      ],
      "metadata": {
        "id": "JF9cTpXwpEkQ"
      },
      "execution_count": null,
      "outputs": []
    },
    {
      "cell_type": "code",
      "source": [
        "\n",
        "# Separar características (X) y objetivo (ALOJ_CATEG para análisis posterior)\n",
        "X = df_cleaned[selected_features]\n",
        "\n",
        "# Identificar columnas numéricas y categóricas\n",
        "numeric_features = X.select_dtypes(include=[\"int64\", \"float64\"]).columns\n",
        "categorical_features = X.select_dtypes(include=[\"object\"]).columns\n",
        "\n",
        "# Definir preprocesador para escalamiento y codificación\n",
        "preprocessor = ColumnTransformer(\n",
        "    transformers=[\n",
        "        (\"num\", StandardScaler(), numeric_features),\n",
        "        (\"cat\", OneHotEncoder(drop=\"first\"), categorical_features),\n",
        "    ]\n",
        ")\n"
      ],
      "metadata": {
        "id": "fETIJzy0qjxq"
      },
      "execution_count": null,
      "outputs": []
    },
    {
      "cell_type": "code",
      "source": [
        "# Crear pipeline con preprocesamiento y K-Means\n",
        "pipeline = Pipeline(\n",
        "    steps=[(\"preprocessor\", preprocessor), (\"kmeans\", KMeans(n_clusters=3, random_state=42))]\n",
        ")\n",
        "\n",
        "# Entrenar el modelo K-Means\n",
        "pipeline.fit(X)\n",
        "\n",
        "# Agregar etiquetas de cluster al DataFrame original\n",
        "df_cleaned[\"Cluster\"] = pipeline.named_steps[\"kmeans\"].labels_\n"
      ],
      "metadata": {
        "id": "VSjd7QU7qnp7"
      },
      "execution_count": null,
      "outputs": []
    },
    {
      "cell_type": "code",
      "source": [
        "# Analizar la distribución de ALOJ_CATEG dentro de cada cluster\n",
        "cluster_analysis = df_cleaned.groupby([\"Cluster\", \"ALOJ_CATEG\"]).size().unstack(fill_value=0)\n",
        "print(cluster_analysis)\n",
        "\n",
        "# Graficar la distribución de ALOJ_CATEG por cluster\n",
        "cluster_analysis.plot(kind=\"bar\", stacked=True, figsize=(10, 6))\n",
        "plt.title(\"Distribución de ALOJ_CATEG por Cluster\")\n",
        "plt.xlabel(\"Cluster\")\n",
        "plt.ylabel(\"Cantidad\")\n",
        "plt.xticks(rotation=0)\n",
        "plt.legend(title=\"ALOJ_CATEG\")\n",
        "plt.show()\n"
      ],
      "metadata": {
        "id": "8SmfBnBGqp50"
      },
      "execution_count": null,
      "outputs": []
    },
    {
      "cell_type": "code",
      "source": [
        "# Graficar la dispersión de EDAD vs COSTE_ALOJ_EUROS coloreada por Cluster\n",
        "sns.scatterplot(\n",
        "    data=df_cleaned,\n",
        "    x=\"EDAD\",\n",
        "    y=\"COSTE_ALOJ_EUROS\",\n",
        "    hue=\"Cluster\",\n",
        "    palette=\"viridis\"\n",
        ")\n",
        "plt.title(\"Dispersión de EDAD vs COSTE_ALOJ_EUROS por Cluster\")\n",
        "plt.xlabel(\"Edad\")\n",
        "plt.ylabel(\"Costo del Alojamiento (€)\")\n",
        "plt.legend(title=\"Cluster\")\n",
        "plt.show()\n"
      ],
      "metadata": {
        "id": "Rue9_qlYqsV_"
      },
      "execution_count": null,
      "outputs": []
    },
    {
      "cell_type": "code",
      "source": [
        "# Importar las librerías necesarias\n",
        "import pandas as pd\n",
        "from sklearn.preprocessing import MinMaxScaler, OneHotEncoder\n",
        "\n",
        "from sklearn.pipeline import Pipeline\n",
        "from sklearn.cluster import KMeans\n",
        "import plotly.express as px\n",
        "\n",
        "\n",
        "# Leer el archivo cargado\n",
        "df = pd.read_excel(\"/content/BASE_BASE (1).xlsx\")  # Cambiar el nombre si es diferente\n",
        "\n",
        "# Seleccionar características relevantes\n",
        "selected_features = [\n",
        "    \"EDAD\", \"MEDIDA_LIMPIEZA\",\n",
        "    \"NOCHES\", \"PERSONAS_TOTAL\", \"COSTE_ALOJ_EUROS\", \"ALOJ_CATEG\"\n",
        "]\n",
        "\n",
        "# Limpiar y preparar los datos\n",
        "df_cleaned = df[selected_features].dropna()\n",
        "\n",
        "# Separar características y objetivo\n",
        "X = df_cleaned.drop(columns=[\"ALOJ_CATEG\"])\n",
        "y = df_cleaned[\"ALOJ_CATEG\"]\n",
        "\n",
        "# Identificar columnas numéricas y categóricas\n",
        "numeric_features = X.select_dtypes(include=[\"int64\", \"float64\"]).columns\n",
        "categorical_features = X.select_dtypes(include=[\"object\"]).columns\n",
        "\n",
        "# Aplicar normalización a las variables numéricas\n",
        "scaler = MinMaxScaler()\n",
        "X_normalized = X.copy()\n",
        "X_normalized[numeric_features] = scaler.fit_transform(X[numeric_features])\n",
        "\n",
        "# Crear pipeline con K-Means\n",
        "pipeline = Pipeline(\n",
        "    steps=[\n",
        "        (\"preprocessor\", ColumnTransformer(\n",
        "            transformers=[\n",
        "                (\"num\", MinMaxScaler(), numeric_features),\n",
        "                (\"cat\", OneHotEncoder(drop=\"first\"), categorical_features),\n",
        "            ]\n",
        "        )),\n",
        "        (\"kmeans\", KMeans(n_clusters=3, random_state=42))\n",
        "    ]\n",
        ")\n",
        "\n",
        "# Entrenar el modelo\n",
        "pipeline.fit(X)\n",
        "X_normalized[\"Cluster\"] = pipeline.named_steps[\"kmeans\"].labels_\n",
        "\n",
        "# Usar una muestra del 80% de X_normalized para graficar\n",
        "X_sampled = X_normalized.sample(frac=0.1, random_state=42)\n",
        "\n",
        "# Crear el gráfico 3D\n",
        "fig = px.scatter_3d(\n",
        "    X_sampled,\n",
        "    x=\"EDAD\",  # Variable para el eje X\n",
        "    y=\"COSTE_ALOJ_EUROS\",  # Variable para el eje Y\n",
        "    z=\"PERSONAS_TOTAL\",  # Variable para el eje Z\n",
        "    color=\"Cluster\",  # Cluster asignado por el modelo\n",
        "    title=\"Visualización 3D de Clusters (Normalizado)\",\n",
        "    labels={\"Cluster\": \"Cluster\"},\n",
        ")\n",
        "\n",
        "# Mostrar el gráfico interactivo\n",
        "fig.show()"
      ],
      "metadata": {
        "id": "KNFqKDO94skb"
      },
      "execution_count": null,
      "outputs": []
    },
    {
      "cell_type": "code",
      "source": [],
      "metadata": {
        "id": "uRKcWtOwgqrb"
      },
      "execution_count": null,
      "outputs": []
    },
    {
      "cell_type": "code",
      "source": [
        "# Asignar el número de cluster asignado a cada registro\n",
        "X_normalized['Cluster'] = pipeline.named_steps['kmeans'].labels_\n",
        "\n",
        "# Mostrar el DataFrame con la nueva columna 'Cluster'\n",
        "X_normalized.head()  # Esto mostrará las primeras filas del DataFrame con la columna 'Cluster'\n"
      ],
      "metadata": {
        "id": "7sqESEeqd2Mr"
      },
      "execution_count": null,
      "outputs": []
    },
    {
      "cell_type": "code",
      "source": [
        "# Crear DataFrame para cada grupo de clusters (0, 1, 2)\n",
        "df_cluster_0 = X_normalized[X_normalized['Cluster'] == 0]\n",
        "df_cluster_1 = X_normalized[X_normalized['Cluster'] == 1]\n",
        "df_cluster_2 = X_normalized[X_normalized['Cluster'] == 2]\n",
        "\n",
        "print(\"DataFrame del Cluster 0:\")\n",
        "df_cluster_0.head()"
      ],
      "metadata": {
        "id": "nU1Og9L-d5Zi"
      },
      "execution_count": null,
      "outputs": []
    },
    {
      "cell_type": "code",
      "source": [
        "print(\"\\nDataFrame del Cluster 1:\")\n",
        "df_cluster_1.head()"
      ],
      "metadata": {
        "id": "qTUgv0lYee5b"
      },
      "execution_count": null,
      "outputs": []
    },
    {
      "cell_type": "code",
      "source": [
        "print(\"\\nDataFrame del Cluster 2:\")\n",
        "df_cluster_2.head()"
      ],
      "metadata": {
        "id": "SV74MvEVehta"
      },
      "execution_count": null,
      "outputs": []
    },
    {
      "cell_type": "code",
      "source": [
        "mean_cluster_0 = df_cluster_0.mean()\n",
        "mean_cluster_1 = df_cluster_1.mean()\n",
        "mean_cluster_2 = df_cluster_2.mean()\n",
        "\n",
        "mean_cluster_0_df = mean_cluster_0.to_frame().T\n",
        "mean_cluster_1_df = mean_cluster_1.to_frame().T\n",
        "mean_cluster_2_df = mean_cluster_2.to_frame().T\n",
        "\n",
        "\n",
        "print(\"Medias del Cluster 0:\")\n",
        "mean_cluster_0_df\n"
      ],
      "metadata": {
        "id": "UtfAwByEeyfD"
      },
      "execution_count": null,
      "outputs": []
    },
    {
      "cell_type": "code",
      "source": [
        "print(\"\\nMedias del Cluster 1:\")\n",
        "mean_cluster_1_df"
      ],
      "metadata": {
        "id": "577EG0jIe5kT"
      },
      "execution_count": null,
      "outputs": []
    },
    {
      "cell_type": "code",
      "source": [
        "print(\"\\nMedias del Cluster 2:\")\n",
        "mean_cluster_2_df"
      ],
      "metadata": {
        "id": "Pm4uq0WSe8Qj"
      },
      "execution_count": null,
      "outputs": []
    },
    {
      "cell_type": "code",
      "source": [
        "# Añadir la columna 'ALOJ_CATEG' de df_cleaned a X_normalized\n",
        "X_normalized['ALOJ_CATEG'] = df_cleaned['ALOJ_CATEG']\n",
        "\n",
        "# Contar la cantidad de datos clasificados por cada cluster (0, 1, 2) y su distribución por 'ALOJ_CATEG'\n",
        "cluster_distribution = X_normalized.groupby(['Cluster', 'ALOJ_CATEG']).size().unstack(fill_value=0)\n",
        "\n",
        "# Mostrar la distribución de registros en cada cluster según la variable objetivo\n",
        "print(\"Distribución de datos en cada cluster según la variable objetivo 'ALOJ_CATEG':\")\n",
        "cluster_distribution"
      ],
      "metadata": {
        "id": "-1WZiLfjfaWL"
      },
      "execution_count": null,
      "outputs": []
    },
    {
      "cell_type": "code",
      "source": [
        "# Importar las librerías necesarias\n",
        "import pandas as pd\n",
        "from sklearn.preprocessing import MinMaxScaler, OneHotEncoder\n",
        "from sklearn.compose import ColumnTransformer\n",
        "from sklearn.pipeline import Pipeline\n",
        "from sklearn.cluster import KMeans\n",
        "import matplotlib.pyplot as plt\n",
        "\n",
        "# Leer el archivo cargado\n",
        "df = pd.read_excel(\"/content/BASE_BASE (1).xlsx\")  # Cambiar el nombre si es diferente\n",
        "\n",
        "# Seleccionar características relevantes\n",
        "selected_features = [\n",
        "    \"EDAD\", \"MEDIDA_LIMPIEZA\",\n",
        "    \"NOCHES\", \"PERSONAS_TOTAL\", \"COSTE_ALOJ_EUROS\", \"ALOJ_CATEG\"\n",
        "]\n",
        "\n",
        "# Limpiar y preparar los datos\n",
        "df_cleaned = df[selected_features].dropna()\n",
        "\n",
        "# Separar características y objetivo\n",
        "X = df_cleaned.drop(columns=[\"ALOJ_CATEG\"])\n",
        "y = df_cleaned[\"ALOJ_CATEG\"]\n",
        "\n",
        "# Identificar columnas numéricas\n",
        "numeric_features = X.select_dtypes(include=[\"int64\", \"float64\"]).columns\n",
        "\n",
        "# Aplicar normalización a las variables numéricas\n",
        "scaler = MinMaxScaler()\n",
        "X_normalized = X.copy()\n",
        "X_normalized[numeric_features] = scaler.fit_transform(X[numeric_features])\n",
        "\n",
        "# Crear y entrenar el modelo K-Means\n",
        "kmeans = KMeans(n_clusters=3, random_state=42)\n",
        "X_normalized[\"Cluster\"] = kmeans.fit_predict(X_normalized)\n",
        "\n",
        "# Crear el diagrama de barras para los clusters\n",
        "cluster_counts = X_normalized[\"Cluster\"].value_counts()\n",
        "plt.figure(figsize=(7, 5))\n",
        "cluster_counts.plot(kind='bar', color='purple', edgecolor='black')\n",
        "plt.title(\"Cantidad de elementos por Cluster\")\n",
        "plt.xlabel(\"Cluster\")\n",
        "plt.ylabel(\"Cantidad de elementos\")\n",
        "plt.xticks(rotation=0)\n",
        "plt.grid(axis='y', linestyle='--', alpha=0.7)\n",
        "plt.show()\n"
      ],
      "metadata": {
        "id": "c4Lj_UM58v1A"
      },
      "execution_count": null,
      "outputs": []
    },
    {
      "cell_type": "code",
      "source": [
        "# Importar las librerías necesarias\n",
        "import pandas as pd\n",
        "from sklearn.preprocessing import MinMaxScaler\n",
        "from sklearn.cluster import KMeans\n",
        "import matplotlib.pyplot as plt\n",
        "\n",
        "# Leer el archivo cargado\n",
        "df = pd.read_excel(\"/content/BASE_BASE (1).xlsx\")  # Cambiar el nombre si es diferente\n",
        "\n",
        "# Seleccionar características relevantes\n",
        "selected_features = [\n",
        "    \"EDAD\", \"MEDIDA_LIMPIEZA\",\n",
        "    \"NOCHES\", \"PERSONAS_TOTAL\", \"COSTE_ALOJ_EUROS\", \"ALOJ_CATEG\"\n",
        "]\n",
        "\n",
        "# Limpiar y preparar los datos\n",
        "df_cleaned = df[selected_features].dropna()\n",
        "\n",
        "# Separar características y objetivo\n",
        "X = df_cleaned.drop(columns=[\"ALOJ_CATEG\"])\n",
        "y = df_cleaned[\"ALOJ_CATEG\"]\n",
        "\n",
        "# Identificar columnas numéricas\n",
        "numeric_features = X.select_dtypes(include=[\"int64\", \"float64\"]).columns\n",
        "\n",
        "# Aplicar normalización a las variables numéricas\n",
        "scaler = MinMaxScaler()\n",
        "X_normalized = X.copy()\n",
        "X_normalized[numeric_features] = scaler.fit_transform(X[numeric_features])\n",
        "\n",
        "# Crear y entrenar el modelo K-Means\n",
        "kmeans = KMeans(n_clusters=3, random_state=42)\n",
        "X_normalized[\"Cluster\"] = kmeans.fit_predict(X_normalized)\n",
        "\n",
        "# Contar la cantidad de valores 0 y 1 de \"ALOJ_CATEG\" por cluster\n",
        "cluster_category_counts = df_cleaned.groupby(X_normalized[\"Cluster\"])[\"ALOJ_CATEG\"].value_counts().unstack()\n",
        "\n",
        "# Crear el gráfico de barras\n",
        "cluster_category_counts.plot(\n",
        "    kind=\"bar\",\n",
        "    stacked=True,\n",
        "    figsize=(10, 6),\n",
        "    color=[\"blue\", \"red\"],  # Colores para las categorías 0 y 1\n",
        "    edgecolor=\"black\"\n",
        ")\n",
        "plt.title(\"Cantidad de 0 y 1 por Cluster\")\n",
        "plt.xlabel(\"Cluster\")\n",
        "plt.ylabel(\"Cantidad\")\n",
        "plt.xticks(rotation=0)\n",
        "plt.legend(title=\"ALOJ_CATEG\", labels=[\"0 (Hoteles)\", \"1 (Viviendas Turísticas)\"])\n",
        "plt.grid(axis=\"y\", linestyle=\"--\", alpha=0.7)\n",
        "plt.show()\n"
      ],
      "metadata": {
        "id": "Qt1pZuJY9b7p"
      },
      "execution_count": null,
      "outputs": []
    },
    {
      "cell_type": "code",
      "source": [
        "\n",
        "\n",
        "# Método del codo para encontrar el número óptimo de clusters\n",
        "inertia = []\n",
        "for i in range(1, 11):\n",
        "    kmeans = KMeans(n_clusters=i, random_state=42)\n",
        "    kmeans.fit(X_normalized)\n",
        "    inertia.append(kmeans.inertia_)\n",
        "\n",
        "# Graficar el método del codo\n",
        "plt.figure(figsize=(8, 6))\n",
        "plt.plot(range(1, 11), inertia, marker='o')\n",
        "plt.title('Método del Codo')\n",
        "plt.xlabel('Número de Clusters')\n",
        "plt.ylabel('Inercia')\n",
        "plt.grid(True)\n",
        "plt.show()"
      ],
      "metadata": {
        "id": "mvHzlKq9Bkdm"
      },
      "execution_count": null,
      "outputs": []
    },
    {
      "cell_type": "code",
      "source": [
        "# Importar las librerías necesarias\n",
        "import pandas as pd\n",
        "from sklearn.preprocessing import MinMaxScaler, OneHotEncoder\n",
        "from sklearn.compose import ColumnTransformer\n",
        "from sklearn.pipeline import Pipeline\n",
        "from sklearn.cluster import KMeans\n",
        "import plotly.express as px\n",
        "\n",
        "\n",
        "# Leer el archivo cargado\n",
        "df = pd.read_excel(\"/content/BASE_BASE (1).xlsx\")  # Cambiar el nombre si es diferente\n",
        "\n",
        "# Seleccionar características relevantes\n",
        "selected_features = [\n",
        "    \"EDAD\", \"MEDIDA_LIMPIEZA\",\n",
        "    \"NOCHES\", \"PERSONAS_TOTAL\", \"COSTE_ALOJ_EUROS\", \"ALOJ_CATEG\"\n",
        "]\n",
        "\n",
        "# Limpiar y preparar los datos\n",
        "df_cleaned = df[selected_features].dropna()\n",
        "\n",
        "# Separar características y objetivo\n",
        "X = df_cleaned.drop(columns=[\"ALOJ_CATEG\"])\n",
        "y = df_cleaned[\"ALOJ_CATEG\"]\n",
        "\n",
        "# Identificar columnas numéricas y categóricas\n",
        "numeric_features = X.select_dtypes(include=[\"int64\", \"float64\"]).columns\n",
        "categorical_features = X.select_dtypes(include=[\"object\"]).columns\n",
        "\n",
        "# Aplicar normalización a las variables numéricas\n",
        "scaler = MinMaxScaler()\n",
        "X_normalized = X.copy()\n",
        "X_normalized[numeric_features] = scaler.fit_transform(X[numeric_features])\n",
        "\n",
        "# Crear pipeline con K-Means\n",
        "pipeline = Pipeline(\n",
        "    steps=[\n",
        "        (\"preprocessor\", ColumnTransformer(\n",
        "            transformers=[\n",
        "                (\"num\", MinMaxScaler(), numeric_features),\n",
        "                (\"cat\", OneHotEncoder(drop=\"first\"), categorical_features),\n",
        "            ]\n",
        "        )),\n",
        "        (\"kmeans\", KMeans(n_clusters=3, random_state=42))\n",
        "    ]\n",
        ")\n",
        "\n",
        "# Entrenar el modelo\n",
        "pipeline.fit(X)\n",
        "X_normalized[\"Cluster\"] = pipeline.named_steps[\"kmeans\"].labels_\n",
        "\n",
        "# Usar una muestra del 80% de X_normalized para graficar\n",
        "X_sampled = X_normalized.sample(frac=0.1, random_state=42)\n",
        "\n",
        "# Crear el gráfico 3D\n",
        "fig = px.scatter_3d(\n",
        "    X_sampled,\n",
        "    x=\"EDAD\",  # Variable para el eje X\n",
        "    y=\"COSTE_ALOJ_EUROS\",  # Variable para el eje Y\n",
        "    z=\"PERSONAS_TOTAL\",  # Variable para el eje Z\n",
        "    color=\"Cluster\",  # Cluster asignado por el modelo\n",
        "    title=\"Visualización 3D de Clusters (Normalizado)\",\n",
        "    labels={\"Cluster\": \"Cluster\"},\n",
        ")\n",
        "\n",
        "# Mostrar el gráfico interactivo\n",
        "fig.show()"
      ],
      "metadata": {
        "id": "Om_keTnRBnfi"
      },
      "execution_count": null,
      "outputs": []
    },
    {
      "cell_type": "markdown",
      "source": [
        "Dataframe por clúster\n"
      ],
      "metadata": {
        "id": "-SOyfHB43pJM"
      }
    },
    {
      "cell_type": "code",
      "source": [
        "# Crear un DataFrame para el cluster 1\n",
        "df_cluster_1 = df_cleaned[df_cleaned[\"Cluster\"] == 1]\n",
        "\n",
        "# Crear un DataFrame para el cluster 0\n",
        "df_cluster_0 = df_cleaned[df_cleaned[\"Cluster\"] == 0]\n",
        "\n",
        "print(\"DataFrame para Cluster 1:\")\n",
        "df_cluster_1"
      ],
      "metadata": {
        "id": "ld43QIm03prl"
      },
      "execution_count": null,
      "outputs": []
    },
    {
      "cell_type": "code",
      "source": [
        "print(\"DataFrame para Cluster 0:\")\n",
        "df_cluster_0"
      ],
      "metadata": {
        "id": "gLMHfW1n37ZA"
      },
      "execution_count": null,
      "outputs": []
    },
    {
      "cell_type": "code",
      "source": [
        "df_cluster_1['SEXO'].value_counts()"
      ],
      "metadata": {
        "id": "4Z3N5Wg039Dk"
      },
      "execution_count": null,
      "outputs": []
    },
    {
      "cell_type": "code",
      "source": [
        "mean_cluster_0 = df_cluster_0.mean()\n",
        "print(\"Mean of columns for df_cluster_0:\")\n",
        "mean_cluster_0\n"
      ],
      "metadata": {
        "id": "8O9CUz2M4Cfz"
      },
      "execution_count": null,
      "outputs": []
    },
    {
      "cell_type": "code",
      "source": [
        "df_cluster_0['SEXO'].value_counts()"
      ],
      "metadata": {
        "id": "Y_yNtTW14NMo"
      },
      "execution_count": null,
      "outputs": []
    },
    {
      "cell_type": "code",
      "source": [
        "mean_cluster_1 = df_cluster_1.mean()\n",
        "print(\"\\nMean of columns for df_cluster_1:\")\n",
        "mean_cluster_1"
      ],
      "metadata": {
        "id": "1Hf9sxlk4Rq-"
      },
      "execution_count": null,
      "outputs": []
    },
    {
      "cell_type": "code",
      "source": [
        "pca = PCA(n_components=2)\n",
        "X_pca = pca.fit_transform(pipeline.named_steps[\"preprocessor\"].transform(X))\n",
        "\n",
        "df_cleaned[\"PCA1\"] = X_pca[:, 0]\n",
        "df_cleaned[\"PCA2\"] = X_pca[:, 1]\n",
        "\n",
        "plt.figure(figsize=(10, 6))\n",
        "sns.scatterplot(\n",
        "    x=\"PCA1\", y=\"PCA2\", hue=\"Cluster\", data=df_cleaned, palette=\"viridis\", s=60\n",
        "    )\n",
        "    plt.title(\"Visualización de Clusters (PCA)\")\n",
        "    plt.xlabel(\"Componente Principal 1\")\n",
        "    plt.ylabel(\"Componente Principal 2\")\n",
        "    plt.legend(title=\"Cluster\")\n",
        "    plt.grid()\n",
        "    plt.show()\n"
      ],
      "metadata": {
        "id": "fOQ-7Qw14Z1M"
      },
      "execution_count": null,
      "outputs": []
    },
    {
      "cell_type": "code",
      "source": [
        "\n",
        "\n",
        "\n",
        "# Preparar los datos\n",
        "cluster_analysis.plot(kind=\"bar\", stacked=True, figsize=(10, 6))\n",
        "plt.title(\"Distribución de ALOJ_CATEG por Cluster\")\n",
        "plt.xlabel(\"Cluster\")\n",
        "plt.ylabel(\"Cantidad\")\n",
        "plt.xticks(rotation=0)\n",
        "plt.legend(title=\"ALOJ_CATEG\")\n",
        "plt.show()\n"
      ],
      "metadata": {
        "id": "PXocvVb_4mh9"
      },
      "execution_count": null,
      "outputs": []
    },
    {
      "cell_type": "code",
      "source": [
        "sns.scatterplot(\n",
        "      data=df_cleaned,\n",
        "          x=\"EDAD\",\n",
        "              y=\"COSTE_ALOJ_EUROS\",\n",
        "                  hue=\"Cluster\",\n",
        "                      palette=\"viridis\"\n",
        "                      )\n",
        "                      plt.title(\"Dispersión de EDAD vs COSTE_ALOJ_EUROS por Cluster\")\n",
        "                      plt.xlabel(\"Edad\")\n",
        "                      plt.ylabel(\"Costo del Alojamiento (€)\")\n",
        "                      plt.legend(title=\"Cluster\")\n",
        "                      plt.show()\n",
        ")"
      ],
      "metadata": {
        "id": "U_JLZXnD4utn"
      },
      "execution_count": null,
      "outputs": []
    },
    {
      "cell_type": "code",
      "source": [
        "# Graficar el método del codo\n",
        "plt.figure(figsize=(8, 5))\n",
        "plt.plot(K_range, inertia, marker=\"o\")\n",
        "plt.title(\"Método del Codo para determinar K óptimo\")\n",
        "plt.xlabel(\"Número de Clusters (K)\")\n",
        "plt.ylabel(\"Inercia\")\n",
        "plt.xticks(K_range)\n",
        "plt.grid()\n",
        "plt.show()"
      ],
      "metadata": {
        "id": "9dvjgehJMb76"
      },
      "execution_count": null,
      "outputs": []
    },
    {
      "cell_type": "code",
      "source": [],
      "metadata": {
        "id": "qAu48Eu_McUV"
      },
      "execution_count": null,
      "outputs": []
    }
  ]
}